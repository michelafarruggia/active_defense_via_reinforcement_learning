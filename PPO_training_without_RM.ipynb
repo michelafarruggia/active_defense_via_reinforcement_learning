{
 "cells": [
  {
   "cell_type": "code",
   "execution_count": 1,
   "metadata": {},
   "outputs": [
    {
     "name": "stderr",
     "output_type": "stream",
     "text": [
     ]
    }
   ],
   "source": [
    "# Import necessary libraries\n",
    "\n",
    "import time\n",
    "import random\n",
    "import numpy as np\n",
    "import copy\n",
    "import json\n",
    "from collections import Counter\n",
    "from typing import Dict, Any, List, Tuple\n",
    "\n",
    "import gym\n",
    "from gym import spaces\n",
    "from stable_baselines3.common.env_checker import check_env\n",
    "from stable_baselines3.common.callbacks import EvalCallback, ProgressBarCallback\n",
    "from stable_baselines3.common.evaluation import evaluate_policy\n",
    "from stable_baselines3.common.monitor import Monitor\n",
    "from stable_baselines3.common.utils import set_random_seed\n",
    "from stable_baselines3 import PPO\n",
    "from stable_baselines3.ppo import MlpPolicy as PPOMlp\n",
    "from baselines import logger\n",
    "\n",
    "# Import Yawning Titan specific modules\n",
    "from yawning_titan.envs.generic.core.blue_interface import BlueInterface\n",
    "from yawning_titan.envs.generic.core.red_interface import RedInterface\n",
    "from yawning_titan.envs.generic.generic_env import GenericNetworkEnv\n",
    "from yawning_titan.envs.generic.core.action_loops import ActionLoop\n",
    "from yawning_titan.envs.generic.core.network_interface import NetworkInterface\n",
    "from yawning_titan.game_modes.game_mode import GameMode\n",
    "from yawning_titan.networks.node import Node\n",
    "from yawning_titan.networks.network import Network\n",
    "from yawning_titan.envs.generic.core import reward_functions\n",
    "from yawning_titan.envs.generic.helpers.eval_printout import EvalPrintout\n",
    "from yawning_titan.envs.generic.helpers.graph2plot import CustomEnvGraph\n",
    "\n",
    "# Import Reward Machine related modules\n",
    "from reward_machines.reward_machine import RewardMachine\n",
    "from reward_machines.rm_environment import RewardMachineEnv, RewardMachineWrapper\n",
    "from reward_machines.reward_functions import ConstantRewardFunction\n",
    "from reward_machines.reward_machine_utils import evaluate_dnf"
   ]
  },
  {
   "cell_type": "code",
   "execution_count": 2,
   "metadata": {},
   "outputs": [
    {
     "name": "stdout",
     "output_type": "stream",
     "text": [
      "200\n",
      "UUID                                  Name                           High Value Node    Entry Node      Vulnerability  Position (x,y)\n",
      "------------------------------------  -----------------------------  -----------------  ------------  ---------------  ----------------\n",
      "7922ca36-aa54-4a19-a1c9-ad11e686a69b  Boundary router packet filter  False              True                     0.01  0.00, 600.00\n",
      "e67c6569-67b1-4b51-97c2-02e5c134eb00  External switch                False              False                    0.01  0.00, 500.00\n",
      "e603dd07-9631-4a7f-ab99-0cc1c4a8bf9c  Network IDS (DMZ)              False              False                    0.01  -200.00, 500.00\n",
      "a152cc0d-c88c-4976-81ae-048b8f0facec  DNS server esterno             False              False                    0.01  200.00, 500.00\n",
      "c588726a-4c4e-4fc7-836c-83572bc0415c  Main Firewall/VPN server/NAT   False              False                    0.01  -100.00, 400.00\n",
      "99bd503a-b3c9-4e54-85df-4a7188763d50  External Web Server/Host IDS   False              False                    0.01  100.00, 400.00\n",
      "5bd41dd0-7449-407e-b1fe-05bdaf496ff6  Internal Switch (DMZ)          False              False                    0.01  0.00, 300.00\n",
      "d7f69a07-cd2e-41f6-b029-fdaff6d6d508  Network IDS (DMZ Internal)     False              False                    0.01  -200.00, 300.00\n",
      "5c45bb36-7e7e-493c-8c8e-840d34c8ff86  Internal Firewall              False              False                    0.01  0.00, 200.00\n",
      "8602d080-31a5-42d8-887c-25f584ed5f85  Database Server                True               False                    0.01  200.00, 200.00\n",
      "d5164f68-66f5-4ff3-a28d-c2a3ce63e556  Email Server/Host IDS          False              False                    0.01  -200.00, 200.00\n",
      "f8ae655f-6ba6-4adf-88d8-046e6b30d9fc  DNS server interno             False              False                    0.01  400.00, 200.00\n",
      "f2a9ba42-e857-4eb0-96e0-c106e1dbae91  Web proxy server               False              False                    0.01  -400.00, 200.00\n",
      "b8860ab9-fd67-40d5-b310-c9c843ae5e7e  Internal Switch                False              False                    0.01  0.00, 100.00\n",
      "b684b133-6ce1-4012-af19-c9a8238297a7  Network IDS Internal           False              False                    0.01  -200.00, 100.00\n",
      "bf344be4-cc37-4aab-9d63-0311abb99305  Router Subnet 1                False              False                    0.01  -300.00, 0.00\n",
      "51058d5e-fae6-42c5-a06e-8a35ffeb5d99  Router Subnet 2                False              False                    0.01  -100.00, 0.00\n",
      "cd33298e-f6e7-4389-a63d-24138e547160  Router Subnet 3                False              False                    0.01  100.00, 0.00\n",
      "b8d19fa6-5109-4b74-af48-cd4b1e69b3d0  Router Subnet 4                False              False                    0.01  300.00, 0.00\n",
      "e48b9341-4efa-4d12-b1d7-3d50759b1b23  Client1 Management             False              False                    0.01  -300.00, -100.00\n",
      "8232698a-c1db-49da-9bea-56b833aece1a  Client1 HR                     False              False                    0.01  -100.00, -100.00\n",
      "01c19c95-b20e-4796-8f8f-891ff93e6d3a  Client1 IT                     False              False                    0.01  100.00, -100.00\n",
      "25a524a2-f74a-4036-89b6-75685b75a77b  Server backup                  True               False                    0.01  300.00, -100.00\n"
     ]
    }
   ],
   "source": [
    "# Load the game mode from a YAML file\n",
    "game_mode = GameMode()\n",
    "game_mode = game_mode.create_from_yaml(yaml='CONFIG YAML FILE', legacy=False, infer_legacy=True)\n",
    "print(game_mode.game_rules.max_steps.value)\n",
    "\n",
    "# Create a network representation\n",
    "network = Network()\n",
    "\n",
    "# Define network nodes and their positions\n",
    "\n",
    "# External layer\n",
    "router_1 = Node(\"Boundary router packet filter\")\n",
    "router_1.node_position = [0, 600]\n",
    "network.add_node(router_1)\n",
    "\n",
    "switch_1 = Node(\"External switch\")\n",
    "switch_1.node_position = [0, 500]\n",
    "network.add_node(switch_1)\n",
    "\n",
    "network_ids_1 = Node(\"Network IDS (DMZ)\")\n",
    "network_ids_1.node_position = [-200, 500]\n",
    "network.add_node(network_ids_1)\n",
    "\n",
    "dns_server_external = Node(\"DNS server esterno\")\n",
    "dns_server_external.node_position = [200, 500]\n",
    "network.add_node(dns_server_external)\n",
    "\n",
    "# DMZ layer\n",
    "server_1 = Node(\"Main Firewall/VPN server/NAT\")\n",
    "server_1.node_position = [-100, 400]\n",
    "network.add_node(server_1)\n",
    "\n",
    "server_2 = Node(\"External Web Server/Host IDS\")\n",
    "server_2.node_position = [100, 400]\n",
    "network.add_node(server_2)\n",
    "\n",
    "switch_2 = Node(\"Internal Switch (DMZ)\")\n",
    "switch_2.node_position = [0, 300]\n",
    "network.add_node(switch_2)\n",
    "\n",
    "network_ids_2 = Node(\"Network IDS (DMZ Internal)\")\n",
    "network_ids_2.node_position = [-200, 300]\n",
    "network.add_node(network_ids_2)\n",
    "\n",
    "# Internal layer\n",
    "internal_firewall = Node(\"Internal Firewall\")\n",
    "internal_firewall.node_position = [0, 200]\n",
    "network.add_node(internal_firewall)\n",
    "\n",
    "server_3 = Node(\"Database Server\")\n",
    "server_3.node_position = [200, 200]\n",
    "network.add_node(server_3)\n",
    "\n",
    "email_server = Node(\"Email Server/Host IDS\")\n",
    "email_server.node_position = [-200, 200]\n",
    "network.add_node(email_server)\n",
    "\n",
    "dns_server_internal = Node(\"DNS server interno\")\n",
    "dns_server_internal.node_position = [400, 200]\n",
    "network.add_node(dns_server_internal)\n",
    "\n",
    "web_proxy = Node(\"Web proxy server\")\n",
    "web_proxy.node_position = [-400, 200]\n",
    "network.add_node(web_proxy)\n",
    "\n",
    "switch_3 = Node(\"Internal Switch\")\n",
    "switch_3.node_position = [0, 100]\n",
    "network.add_node(switch_3)\n",
    "\n",
    "network_ids_3 = Node(\"Network IDS Internal\")\n",
    "network_ids_3.node_position = [-200, 100]\n",
    "network.add_node(network_ids_3)\n",
    "\n",
    "# Subnet layer\n",
    "subnet1_router = Node(\"Router Subnet 1\")\n",
    "subnet1_router.node_position = [-300, 0]\n",
    "network.add_node(subnet1_router)\n",
    "\n",
    "subnet2_router = Node(\"Router Subnet 2\")\n",
    "subnet2_router.node_position = [-100, 0]\n",
    "network.add_node(subnet2_router)\n",
    "\n",
    "subnet3_router = Node(\"Router Subnet 3\")\n",
    "subnet3_router.node_position = [100, 0]\n",
    "network.add_node(subnet3_router)\n",
    "\n",
    "subnet4_router = Node(\"Router Subnet 4\")\n",
    "subnet4_router.node_position = [300, 0]\n",
    "network.add_node(subnet4_router)\n",
    "\n",
    "# Client/Server layer\n",
    "client1_management = Node(\"Client1 Management\")\n",
    "client1_management.node_position = [-300, -100]\n",
    "network.add_node(client1_management)\n",
    "\n",
    "client1_hr = Node(\"Client1 HR\")\n",
    "client1_hr.node_position = [-100, -100]\n",
    "network.add_node(client1_hr)\n",
    "\n",
    "client1_it = Node(\"Client1 IT\")\n",
    "client1_it.node_position = [100, -100]\n",
    "network.add_node(client1_it)\n",
    "\n",
    "server_backup = Node(\"Server backup\")\n",
    "server_backup.node_position = [300, -100]\n",
    "network.add_node(server_backup)\n",
    "\n",
    "# Add edges to connect nodes\n",
    "network.add_edge(router_1, switch_1)\n",
    "network.add_edge(switch_1, server_1)\n",
    "network.add_edge(switch_1, server_2)\n",
    "network.add_edge(switch_1, network_ids_1)\n",
    "network.add_edge(switch_1, dns_server_external)\n",
    "network.add_edge(server_1, switch_2)\n",
    "network.add_edge(switch_2, server_3)\n",
    "network.add_edge(switch_2, internal_firewall)\n",
    "network.add_edge(switch_2, email_server)\n",
    "network.add_edge(switch_2, dns_server_internal)\n",
    "network.add_edge(switch_2, web_proxy)\n",
    "network.add_edge(switch_2, network_ids_2)\n",
    "network.add_edge(internal_firewall, switch_3)\n",
    "network.add_edge(switch_3, network_ids_3)\n",
    "network.add_edge(switch_3, subnet1_router)\n",
    "network.add_edge(switch_3, subnet2_router)\n",
    "network.add_edge(switch_3, subnet3_router)\n",
    "network.add_edge(switch_3, subnet4_router)\n",
    "network.add_edge(subnet1_router, client1_management)\n",
    "network.add_edge(subnet2_router, client1_hr)\n",
    "network.add_edge(subnet3_router, client1_it)\n",
    "network.add_edge(subnet4_router, server_backup)\n",
    "\n",
    "\n",
    "# Set entry and high-value nodes\n",
    "router_1.entry_node = True\n",
    "server_3.high_value_node = True\n",
    "server_backup.high_value_node = True\n",
    "\n",
    "\n",
    "# Display the network details\n",
    "network.show(verbose=True)"
   ]
  },
  {
   "cell_type": "code",
   "execution_count": 3,
   "metadata": {},
   "outputs": [],
   "source": [
    "# Create NetworkInterface, RedInterface, and BlueInterface objects\n",
    "network_interface = NetworkInterface(game_mode=game_mode, network=network)\n",
    "red = RedInterface(network_interface)\n",
    "blue = BlueInterface(network_interface)"
   ]
  },
  {
   "cell_type": "code",
   "execution_count": 4,
   "metadata": {},
   "outputs": [
    {
     "name": "stderr",
     "output_type": "stream",
     "text": [
      "\n"
     ]
    }
   ],
   "source": [
    "YTenv = GenericNetworkEnv(\n",
    "    red,\n",
    "    blue,\n",
    "    network_interface,\n",
    "    show_metrics_every=10\n",
    ")"
   ]
  },
  {
   "cell_type": "code",
   "execution_count": 5,
   "metadata": {},
   "outputs": [
    {
     "name": "stdout",
     "output_type": "stream",
     "text": [
      "Using cpu device\n",
      "Wrapping the env with a `Monitor` wrapper\n",
      "Wrapping the env in a DummyVecEnv.\n"
     ]
    }
   ],
   "source": [
    "# Create and train PPO agent \n",
    "agent = PPO(PPOMlp, YTenv, verbose=1)"
   ]
  },
  {
   "cell_type": "code",
   "execution_count": 6,
   "metadata": {
    "scrolled": true
   },
   "outputs": [
    {
     "name": "stdout",
     "output_type": "stream",
     "text": [
      "----------------------------------\n",
      "| rollout/           |           |\n",
      "|    ep_len_mean     | 200       |\n",
      "|    ep_rew_mean     | -2.01e+03 |\n",
      "| time/              |           |\n",
      "|    fps             | 754       |\n",
      "|    iterations      | 1         |\n",
      "|    time_elapsed    | 2         |\n",
      "|    total_timesteps | 2048      |\n",
      "----------------------------------\n",
      "------------------------------------------\n",
      "| rollout/                |              |\n",
      "|    ep_len_mean          | 200          |\n",
      "|    ep_rew_mean          | -2.04e+03    |\n",
      "| time/                   |              |\n",
      "|    fps                  | 630          |\n",
      "|    iterations           | 2            |\n",
      "|    time_elapsed         | 6            |\n",
      "|    total_timesteps      | 4096         |\n",
      "| train/                  |              |\n",
      "|    approx_kl            | 0.0007171217 |\n",
      "|    clip_fraction        | 0            |\n",
      "|    clip_range           | 0.2          |\n",
      "|    entropy_loss         | -4.26        |\n",
      "|    explained_variance   | -0.000619    |\n",
      "|    learning_rate        | 0.0003       |\n",
      "|    loss                 | 1.06e+04     |\n",
      "|    n_updates            | 10           |\n",
      "|    policy_gradient_loss | -0.00677     |\n",
      "|    value_loss           | 2.58e+04     |\n",
      "------------------------------------------\n",
      "------------------------------------------\n",
      "| rollout/                |              |\n",
      "|    ep_len_mean          | 200          |\n",
      "|    ep_rew_mean          | -2.04e+03    |\n",
      "| time/                   |              |\n",
      "|    fps                  | 585          |\n",
      "|    iterations           | 3            |\n",
      "|    time_elapsed         | 10           |\n",
      "|    total_timesteps      | 6144         |\n",
      "| train/                  |              |\n",
      "|    approx_kl            | 0.0007619555 |\n",
      "|    clip_fraction        | 0            |\n",
      "|    clip_range           | 0.2          |\n",
      "|    entropy_loss         | -4.26        |\n",
      "|    explained_variance   | -0.000152    |\n",
      "|    learning_rate        | 0.0003       |\n",
      "|    loss                 | 1.45e+04     |\n",
      "|    n_updates            | 20           |\n",
      "|    policy_gradient_loss | -0.00565     |\n",
      "|    value_loss           | 2.81e+04     |\n",
      "------------------------------------------\n",
      "------------------------------------------\n",
      "| rollout/                |              |\n",
      "|    ep_len_mean          | 200          |\n",
      "|    ep_rew_mean          | -2.06e+03    |\n",
      "| time/                   |              |\n",
      "|    fps                  | 588          |\n",
      "|    iterations           | 4            |\n",
      "|    time_elapsed         | 13           |\n",
      "|    total_timesteps      | 8192         |\n",
      "| train/                  |              |\n",
      "|    approx_kl            | 0.0011443298 |\n",
      "|    clip_fraction        | 0            |\n",
      "|    clip_range           | 0.2          |\n",
      "|    entropy_loss         | -4.26        |\n",
      "|    explained_variance   | -0.000162    |\n",
      "|    learning_rate        | 0.0003       |\n",
      "|    loss                 | 1.35e+04     |\n",
      "|    n_updates            | 30           |\n",
      "|    policy_gradient_loss | -0.0069      |\n",
      "|    value_loss           | 2.78e+04     |\n",
      "------------------------------------------\n",
      "-------------------------------------------\n",
      "| rollout/                |               |\n",
      "|    ep_len_mean          | 200           |\n",
      "|    ep_rew_mean          | -2.04e+03     |\n",
      "| time/                   |               |\n",
      "|    fps                  | 588           |\n",
      "|    iterations           | 5             |\n",
      "|    time_elapsed         | 17            |\n",
      "|    total_timesteps      | 10240         |\n",
      "| train/                  |               |\n",
      "|    approx_kl            | 0.00086307677 |\n",
      "|    clip_fraction        | 0             |\n",
      "|    clip_range           | 0.2           |\n",
      "|    entropy_loss         | -4.26         |\n",
      "|    explained_variance   | -6.14e-05     |\n",
      "|    learning_rate        | 0.0003        |\n",
      "|    loss                 | 1.5e+04       |\n",
      "|    n_updates            | 40            |\n",
      "|    policy_gradient_loss | -0.0063       |\n",
      "|    value_loss           | 2.87e+04      |\n",
      "-------------------------------------------\n"
     ]
    },
    {
     "data": {
      "text/plain": [
       "<stable_baselines3.ppo.ppo.PPO at 0x15fbc4c70>"
      ]
     },
     "execution_count": 6,
     "metadata": {},
     "output_type": "execute_result"
    }
   ],
   "source": [
    "agent.learn(total_timesteps=10000)"
   ]
  },
  {
   "cell_type": "code",
   "execution_count": 7,
   "metadata": {},
   "outputs": [
    {
     "name": "stderr",
     "output_type": "stream",
     "text": [
      "\n"
     ]
    },
    {
     "data": {
      "text/plain": [
       "(-1106.9238873004913, 3.757377493381295)"
      ]
     },
     "execution_count": 7,
     "metadata": {},
     "output_type": "execute_result"
    }
   ],
   "source": [
    "evaluate_policy(agent, YTenv, n_eval_episodes=10)"
   ]
  },
  {
   "cell_type": "code",
   "execution_count": null,
   "metadata": {},
   "outputs": [],
   "source": []
  }
 ],
 "metadata": {
  "kernelspec": {
   "display_name": "Python 3 (ipykernel)",
   "language": "python",
   "name": "python3"
  },
  "language_info": {
   "codemirror_mode": {
    "name": "ipython",
    "version": 3
   },
   "file_extension": ".py",
   "mimetype": "text/x-python",
   "name": "python",
   "nbconvert_exporter": "python",
   "pygments_lexer": "ipython3",
   "version": "3.10.13"
  },
  "vscode": {
   "interpreter": {
    "hash": "848c8f009db9df6e0e1b3a1aa5b08bbcab98ccfd0977252ce3d23bd921ece881"
   }
  }
 },
 "nbformat": 4,
 "nbformat_minor": 4
}
